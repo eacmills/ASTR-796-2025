{
 "cells": [
  {
   "cell_type": "code",
   "execution_count": 4,
   "id": "352eb768-9ad3-4623-9a7e-369c339f4c19",
   "metadata": {},
   "outputs": [
    {
     "name": "stdout",
     "output_type": "stream",
     "text": [
      "all imported\n"
     ]
    }
   ],
   "source": [
    "#Use this window to import packages you will use later\n",
    "#When you first start working or import a new package, this cell needs to be run before doing anything else.\n",
    "\n",
    "\n",
    "import numpy as np\n",
    "import pylab\n",
    "import matplotlib\n",
    "import matplotlib.gridspec as gridspec\n",
    "\n",
    "import scipy\n",
    "\n",
    "import astropy.io.fits as fits\n",
    "\n",
    "from astropy.wcs import WCS\n",
    "from astropy import units as u\n",
    "\n",
    "import regions\n",
    "\n",
    "import pyspeckit as psk\n",
    "\n",
    "from spectral_cube import SpectralCube\n",
    "\n",
    "from reproject import reproject_interp\n",
    "from reproject.mosaicking import find_optimal_celestial_wcs \n",
    "\n",
    "# Suppress warnings we don't care about:\n",
    "import sys\n",
    "if not sys.warnoptions:\n",
    "    import warnings\n",
    "    warnings.simplefilter(\"ignore\")\n",
    "    \n",
    "# Embeds plots in the Jupyter window \n",
    "%matplotlib inline                             \n",
    "\n",
    "matplotlib.rc('text', usetex=True)\n",
    "#matplotlib.rc('font', family='sans-serif')\n",
    "font = {'family' : 'sans-serif',\n",
    "        'weight' : 'bold',\n",
    "        'size'   : 22}\n",
    "matplotlib.rc('font', **font)\n",
    "\n",
    "datadir = \"../data/\"\n",
    "\n",
    "#print(\"all imported\")"
   ]
  },
  {
   "cell_type": "code",
   "execution_count": 2,
   "id": "b4459e64-d188-4394-9c19-1bae433c2d94",
   "metadata": {},
   "outputs": [
    {
     "name": "stdout",
     "output_type": "stream",
     "text": [
      "testing 2\n"
     ]
    }
   ],
   "source": [
    "# A useful exercise is to compare data from different species. First, we want to compare 13CO and 12CO \n",
    "# (and eventually C18O, and C17O)\n",
    "# Here, we demonstrate a method to match shapes of 2D images (like moment maps) so we can calculate ratios.\n",
    "        \n",
    "sc13 = SpectralCube.read(datadir + '')    \n",
    "print(sc13)                                              \n",
    "\n",
    "sc12 = SpectralCube.read('H8_12C16O.cube.pbcor.fits')    # Comparing to the 13 CO,\n",
    "print(sc12)                                              # here we immediately see this image is a different shape.\n",
    "                                                        # In order to compare the two, we have to make them the same.\n",
    "\n",
    "    \n",
    "\n",
    "\n",
    "sc13_kms = sc13.with_spectral_unit(u.km/u.s,velocity_convention=\"radio\")\n",
    "sc13_kms.allow_huge_operations=True\n",
    "sc13_K_kms = sc13_kms.to(u.K)\n",
    "sc12_kms = sc12.with_spectral_unit(u.km/u.s,velocity_convention=\"radio\")\n",
    "sc12_kms.allow_huge_operations=True\n",
    "sc12_K_kms = sc12_kms.to(u.K)\n",
    "\n",
    "sc13_moment0  = sc13_K_kms.moment(order=0,how='slice')    # Calculate the first Moment 0 map \n",
    "sc12_moment0  = sc12_K_kms.moment(order=0,how='slice')    # Calculate the second Moment 0 map \n",
    "\n",
    "\n",
    "sc13_moment0_reproject, footprint = reproject_interp(sc13_moment0.hdu,sc12_moment0.header)\n",
    "\n",
    "                                                        # Now that images are same size, compute ratio of moment maps\n",
    "ratio_12CO_13CO = sc12_moment0.hdu.data/sc13_moment0_reproject\n",
    "\n",
    "badpix = pylab.where(sc13_moment0_reproject<50) # Identify emission below a threshold to mask\n",
    "badpix2 = pylab.where(sc12_moment0.hdu.data<0)           # Mask 12CO absorption\n",
    "ratio_12CO_13CO[badpix] = np.nan                        # Mask the ratio map\n",
    "ratio_12CO_13CO[badpix2] = np.nan\n",
    "\n",
    "fig1 = pylab.figure(1,figsize=(15,15))\n",
    "\n",
    "ax1 = pylab.subplot(2,2,1,projection=sc12_moment0.wcs) \n",
    "im1 = pylab.imshow(ratio_12CO_13CO,cmap='copper')\n",
    "RA = ax1.coords[0]                                                                  \n",
    "Dec = ax1.coords[1]\n",
    "RA.set_ticks(size=-3)                                                                                      \n",
    "Dec.set_ticks(size=-3)                                                                                    \n",
    "pylab.xlabel('Right Ascension',fontsize=20,labelpad=1)                               \n",
    "pylab.ylabel('Declination',fontsize=20,labelpad=0)\n",
    "ax1.tick_params(axis = 'both', which = 'major', labelsize = 15)    \n",
    "cb=pylab.colorbar(im1,fraction=0.046,pad=0.04)                                      \n",
    "cb.set_label(label='12CO/13CO Ratio',fontsize=20,rotation=270,labelpad=20) \n",
    "cb.ax.tick_params(which = 'major', labelsize = 10)   \n",
    "pylab.annotate(s='$^{12}$CO/$^{13}$CO',fontsize=35,xy=(0.02,0.91),xycoords=\"axes fraction\");  "
   ]
  },
  {
   "cell_type": "code",
   "execution_count": null,
   "id": "c7e8b83f-4e1d-4125-982e-ce9e43638ff5",
   "metadata": {},
   "outputs": [],
   "source": []
  }
 ],
 "metadata": {
  "kernelspec": {
   "display_name": "Python 3 (ipykernel)",
   "language": "python",
   "name": "python3"
  },
  "language_info": {
   "codemirror_mode": {
    "name": "ipython",
    "version": 3
   },
   "file_extension": ".py",
   "mimetype": "text/x-python",
   "name": "python",
   "nbconvert_exporter": "python",
   "pygments_lexer": "ipython3",
   "version": "3.13.7"
  }
 },
 "nbformat": 4,
 "nbformat_minor": 5
}
